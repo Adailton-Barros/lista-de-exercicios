{
  "nbformat": 4,
  "nbformat_minor": 0,
  "metadata": {
    "colab": {
      "provenance": [],
      "authorship_tag": "ABX9TyNt61CJDfVwBQHxGd73yQcI",
      "include_colab_link": true
    },
    "kernelspec": {
      "name": "python3",
      "display_name": "Python 3"
    },
    "language_info": {
      "name": "python"
    }
  },
  "cells": [
    {
      "cell_type": "markdown",
      "metadata": {
        "id": "view-in-github",
        "colab_type": "text"
      },
      "source": [
        "<a href=\"https://colab.research.google.com/github/Adailton-Barros/lista-de-exercicios/blob/main/Lista_de_Exercicios_04_02_2025.ipynb\" target=\"_parent\"><img src=\"https://colab.research.google.com/assets/colab-badge.svg\" alt=\"Open In Colab\"/></a>"
      ]
    },
    {
      "cell_type": "code",
      "execution_count": null,
      "metadata": {
        "colab": {
          "base_uri": "https://localhost:8080/"
        },
        "id": "XVtE7cfr6TLy",
        "outputId": "3d924f56-89ef-4605-afdb-1c0b2ae4cd0b"
      },
      "outputs": [
        {
          "output_type": "stream",
          "name": "stdout",
          "text": [
            "Digite a distância a percorrer em quilômetros: 320\n",
            "Digite a velocidade média esperada em km/h: 100\n",
            "O tempo estimado de viagem é: 3 horas e 12 minutos\n"
          ]
        }
      ],
      "source": [
        "# prompt: escreva um programa que calcule o tempo d euma viagem de carro. pergunte a distancia a percorrer e a velocidade media esperada para a viagem\n",
        "\n",
        "def calcular_tempo_viagem():\n",
        "  \"\"\"Calcula o tempo de viagem de carro com base na distância e velocidade média.\"\"\"\n",
        "\n",
        "  try:\n",
        "    distancia = float(input(\"Digite a distância a percorrer em quilômetros: \"))\n",
        "    velocidade_media = float(input(\"Digite a velocidade média esperada em km/h: \"))\n",
        "  except ValueError:\n",
        "    print(\"Entrada inválida. Por favor, insira valores numéricos.\")\n",
        "    return\n",
        "\n",
        "  if distancia <= 0 or velocidade_media <= 0:\n",
        "      print(\"A distância e a velocidade devem ser maiores que zero.\")\n",
        "      return\n",
        "\n",
        "  tempo_horas = distancia / velocidade_media\n",
        "\n",
        "  horas = int(tempo_horas)\n",
        "  minutos = int((tempo_horas - horas) * 60)\n",
        "\n",
        "  print(f\"O tempo estimado de viagem é: {horas} horas e {minutos} minutos\")\n",
        "\n",
        "if __name__ == \"__main__\":\n",
        "  calcular_tempo_viagem()\n"
      ]
    },
    {
      "cell_type": "code",
      "source": [
        "#  QUESTÃO 1\n",
        "\n",
        "# Solicita a distância a percorrer em quilômetros\n",
        "distancia = float(input(\"Digite a distância a percorrer (em km): \"))\n",
        "\n",
        "# Solicita a velocidade média esperada em km/h\n",
        "velocidade_media = float(input(\"Digite a velocidade média esperada (em km/h): \"))\n",
        "\n",
        "# Calcula o tempo da viagem em horas\n",
        "tempo_viagem = distancia / velocidade_media\n",
        "\n",
        "# Exibe o tempo da viagem\n",
        "print(f\"O tempo estimado da viagem é de {tempo_viagem:.2f} horas.\")\n",
        "\n",
        "# Opcional: converter o tempo para horas e minutos\n",
        "horas = int(tempo_viagem)\n",
        "minutos = int((tempo_viagem - horas) * 60)\n",
        "\n",
        "print(f\"Isso equivale a {horas} horas e {minutos} minutos.\")"
      ],
      "metadata": {
        "colab": {
          "base_uri": "https://localhost:8080/"
        },
        "id": "y2lvUQdyFcGm",
        "outputId": "f32a1753-39ab-44eb-e8e2-fcdab4d3cd72"
      },
      "execution_count": null,
      "outputs": [
        {
          "output_type": "stream",
          "name": "stdout",
          "text": [
            "Digite a distância a percorrer (em km): 320\n",
            "Digite a velocidade média esperada (em km/h): 100\n",
            "O tempo estimado da viagem é de 3.20 horas.\n",
            "Isso equivale a 3 horas e 12 minutos.\n"
          ]
        }
      ]
    },
    {
      "cell_type": "code",
      "source": [
        "# prompt: Escreva um programa que converta uma temperatura digitada em  Graus Celsius em Fahrenheit\n",
        "\n",
        "def celsius_para_fahrenheit():\n",
        "  \"\"\"Converte temperatura de graus Celsius para Fahrenheit.\"\"\"\n",
        "  try:\n",
        "    celsius = float(input(\"Digite a temperatura em graus Celsius: \"))\n",
        "  except ValueError:\n",
        "    print(\"Entrada inválida. Por favor, insira um valor numérico.\")\n",
        "    return\n",
        "\n",
        "  fahrenheit = (celsius * 9/5) + 32\n",
        "  print(f\"{celsius} graus Celsius equivalem a {fahrenheit} graus Fahrenheit\")\n",
        "\n",
        "if __name__ == \"__main__\":\n",
        "  celsius_para_fahrenheit()\n"
      ],
      "metadata": {
        "colab": {
          "base_uri": "https://localhost:8080/"
        },
        "id": "LM34d_8K7cWU",
        "outputId": "76a431f5-214c-48ed-f809-c1f95fe0dee5"
      },
      "execution_count": null,
      "outputs": [
        {
          "output_type": "stream",
          "name": "stdout",
          "text": [
            "Digite a temperatura em graus Celsius: 34\n",
            "34.0 graus Celsius equivalem a 93.2 graus Fahrenheit\n"
          ]
        }
      ]
    },
    {
      "cell_type": "code",
      "source": [
        "#  QUESTÃO 2\n",
        "\n",
        "# Solicita ao usuário que insira a temperatura em graus Celsius\n",
        "celsius = float(input(\"Digite a temperatura em graus Celsius: \"))\n",
        "\n",
        "# Converte a temperatura para Fahrenheit\n",
        "fahrenheit = (celsius * 9/5) + 32\n",
        "\n",
        "# Exibe o resultado\n",
        "print(f\"{celsius} graus Celsius equivalem a {fahrenheit} graus Fahrenheit.\")"
      ],
      "metadata": {
        "colab": {
          "base_uri": "https://localhost:8080/"
        },
        "id": "_QPAjQfHF2uW",
        "outputId": "181365e1-cc90-4e09-e7fa-0c70302cbb39"
      },
      "execution_count": null,
      "outputs": [
        {
          "output_type": "stream",
          "name": "stdout",
          "text": [
            "Digite a temperatura em graus Celsius: 34\n",
            "34.0 graus Celsius equivalem a 93.2 graus Fahrenheit.\n"
          ]
        }
      ]
    },
    {
      "cell_type": "code",
      "source": [
        "# prompt: Escreva um programa que pergunte a quantidade de km percorridos por um carro alugado pelo usuário, assim como a quantidade de dias pelos quais o carro foi alugado. Calcule o preço a pagar, sabendo que o carro custa R$ 60,00 por dia e R$ 0,15 por km rodado.\n",
        "\n",
        "def calcular_preco_aluguel():\n",
        "  \"\"\"Calcula o preço a pagar pelo aluguel de um carro.\"\"\"\n",
        "  try:\n",
        "    km_percorridos = float(input(\"Digite a quantidade de km percorridos: \"))\n",
        "    dias_alugado = int(input(\"Digite a quantidade de dias pelos quais o carro foi alugado: \"))\n",
        "  except ValueError:\n",
        "    print(\"Entrada inválida. Por favor, insira valores numéricos.\")\n",
        "    return\n",
        "\n",
        "  preco_por_dia = 60.00\n",
        "  preco_por_km = 0.15\n",
        "\n",
        "  preco_total = (dias_alugado * preco_por_dia) + (km_percorridos * preco_por_km)\n",
        "\n",
        "  print(f\"O preço total a pagar pelo aluguel é: R$ {preco_total:.2f}\")\n",
        "\n",
        "if __name__ == \"__main__\":\n",
        "  calcular_preco_aluguel()\n"
      ],
      "metadata": {
        "colab": {
          "base_uri": "https://localhost:8080/"
        },
        "id": "pTIn0wzb8alb",
        "outputId": "61697f45-7381-4f4f-d615-f0b3b6605b70"
      },
      "execution_count": null,
      "outputs": [
        {
          "output_type": "stream",
          "name": "stdout",
          "text": [
            "Digite a quantidade de km percorridos: 800\n",
            "Digite a quantidade de dias pelos quais o carro foi alugado: 3\n",
            "O preço total a pagar pelo aluguel é: R$ 300.00\n"
          ]
        }
      ]
    },
    {
      "cell_type": "code",
      "source": [
        "#  QUESTÃO 3\n",
        "# Solicita ao usuário a quantidade de quilômetros percorridos\n",
        "km_percorridos = float(input(\"Digite a quantidade de quilômetros percorridos: \"))\n",
        "\n",
        "# Solicita ao usuário a quantidade de dias de aluguel\n",
        "dias_aluguel = int(input(\"Digite a quantidade de dias de aluguel: \"))\n",
        "\n",
        "# Define o custo por dia e por quilômetro\n",
        "custo_por_dia = 60.00\n",
        "custo_por_km = 0.15\n",
        "\n",
        "# Calcula o preço total a pagar\n",
        "preco_total = (dias_aluguel * custo_por_dia) + (km_percorridos * custo_por_km)\n",
        "\n",
        "# Exibe o preço total a pagar\n",
        "print(f\"O preço total a pagar é: R$ {preco_total:.2f}\")"
      ],
      "metadata": {
        "colab": {
          "base_uri": "https://localhost:8080/"
        },
        "id": "Hd_Bo9HqGPz9",
        "outputId": "58e456ab-b808-4cc1-8383-183bf0cb3ed7"
      },
      "execution_count": null,
      "outputs": [
        {
          "output_type": "stream",
          "name": "stdout",
          "text": [
            "Digite a quantidade de quilômetros percorridos: 800\n",
            "Digite a quantidade de dias de aluguel: 3\n",
            "O preço total a pagar é: R$ 300.00\n"
          ]
        }
      ]
    },
    {
      "cell_type": "code",
      "source": [
        "# prompt: Escreva um programa para calcular a redução do tempo de vida de um fumante. Pergunte a quantidade de cigarros fumados por dia e quantos anos ele já fumou. Considere que um fumante perde 10 minutos de vida a cada cigarro, e calcule quantos dias de vida um fumante perderá. Exiba o total em dias.\n",
        "\n",
        "def calcular_reducao_vida_fumante():\n",
        "  \"\"\"Calcula a redução do tempo de vida de um fumante.\"\"\"\n",
        "\n",
        "  try:\n",
        "    cigarros_por_dia = int(input(\"Digite a quantidade de cigarros fumados por dia: \"))\n",
        "    anos_fumando = int(input(\"Digite quantos anos você já fumou: \"))\n",
        "  except ValueError:\n",
        "    print(\"Entrada inválida. Por favor, insira valores numéricos inteiros.\")\n",
        "    return\n",
        "\n",
        "  minutos_perdidos_por_cigarro = 10\n",
        "  minutos_por_dia = cigarros_por_dia * minutos_perdidos_por_cigarro\n",
        "  dias_por_ano = 365\n",
        "  minutos_perdidos_total = minutos_por_dia * dias_por_ano * anos_fumando\n",
        "\n",
        "  dias_perdidos = minutos_perdidos_total / (60 * 24)\n",
        "\n",
        "  print(f\"Você perdeu aproximadamente {dias_perdidos:.2f} dias de vida devido ao fumo.\")\n",
        "\n",
        "if __name__ == \"__main__\":\n",
        "  calcular_reducao_vida_fumante()\n"
      ],
      "metadata": {
        "colab": {
          "base_uri": "https://localhost:8080/"
        },
        "id": "Frs0yWOh83CC",
        "outputId": "bccd3e67-dc34-46fb-e89e-bd5ca35dc04a"
      },
      "execution_count": null,
      "outputs": [
        {
          "output_type": "stream",
          "name": "stdout",
          "text": [
            "Digite a quantidade de cigarros fumados por dia: 20\n",
            "Digite quantos anos você já fumou: 15\n",
            "Você perdeu aproximadamente 760.42 dias de vida devido ao fumo.\n"
          ]
        }
      ]
    },
    {
      "cell_type": "code",
      "source": [
        "# QUESTÃO 4\n",
        "\n",
        "# Solicita a quantidade de cigarros fumados por dia\n",
        "cigarros_por_dia = int(input(\"Quantos cigarros você fuma por dia? \"))\n",
        "\n",
        "# Solicita a quantidade de anos que o usuário já fumou\n",
        "anos_fumando = int(input(\"Há quantos anos você fuma? \"))\n",
        "\n",
        "# Calcula o total de cigarros fumados\n",
        "total_cigarros = cigarros_por_dia * 365 * anos_fumando\n",
        "\n",
        "# Calcula o total de minutos perdidos\n",
        "minutos_perdidos = total_cigarros * 10\n",
        "\n",
        "# Converte minutos para dias (1 dia = 1440 minutos)\n",
        "dias_perdidos = minutos_perdidos / 1440\n",
        "\n",
        "# Exibe o resultado\n",
        "print(f\"Você perderá aproximadamente {dias_perdidos:.2f} dias de vida devido ao fumo.\")"
      ],
      "metadata": {
        "colab": {
          "base_uri": "https://localhost:8080/"
        },
        "id": "0ukLQifhG83l",
        "outputId": "79f3487b-acc5-49fa-b476-dd53552950f8"
      },
      "execution_count": null,
      "outputs": [
        {
          "output_type": "stream",
          "name": "stdout",
          "text": [
            "Quantos cigarros você fuma por dia? 20\n",
            "Há quantos anos você fuma? 15\n",
            "Você perderá aproximadamente 760.42 dias de vida devido ao fumo.\n"
          ]
        }
      ]
    },
    {
      "cell_type": "code",
      "source": [
        "# prompt: A lista de temperatura de Mons, na Bélgica, foi armazenada na lista T = [-10, -8, 0, 1, 2, 5, -2, -4]. Faça um programa que imprima a menor e a maior temperatura, assim como a temperatura média.\n",
        "\n",
        "import numpy as np\n",
        "\n",
        "T = [-10, -8, 0, 1, 2, 5, -2, -4]\n",
        "\n",
        "# Find the minimum temperature\n",
        "min_temp = min(T)\n",
        "\n",
        "# Find the maximum temperature\n",
        "max_temp = max(T)\n",
        "\n",
        "# Calculate the average temperature\n",
        "average_temp = np.mean(T)\n",
        "\n",
        "\n",
        "print(f\"Menor temperatura: {min_temp}\")\n",
        "print(f\"Maior temperatura: {max_temp}\")\n",
        "print(f\"Temperatura média: {average_temp}\")\n"
      ],
      "metadata": {
        "colab": {
          "base_uri": "https://localhost:8080/"
        },
        "id": "w-taqaRH9VCS",
        "outputId": "91d269cc-c52e-4c76-f525-d4106c6f7c6d"
      },
      "execution_count": null,
      "outputs": [
        {
          "output_type": "stream",
          "name": "stdout",
          "text": [
            "Menor temperatura: -10\n",
            "Maior temperatura: 5\n",
            "Temperatura média: -2.0\n"
          ]
        }
      ]
    },
    {
      "cell_type": "code",
      "source": [
        "# QUESTÃO 5\n",
        "\n",
        "# Lista de temperaturas\n",
        "T = [-10, -8, 0, 1, 2, 5, -2, -4]\n",
        "\n",
        "# Calculando a menor temperatura\n",
        "menor_temperatura = min(T)\n",
        "\n",
        "# Calculando a maior temperatura\n",
        "maior_temperatura = max(T)\n",
        "\n",
        "# Calculando a temperatura média\n",
        "#sum(T) / len(T): Calcula a média das temperaturas somando todos os valores e dividindo pelo número de elementos na lista\n",
        "temperatura_media = sum(T) / len(T)\n",
        "\n",
        "# Imprimindo os resultados\n",
        "print(f\"Menor temperatura: {menor_temperatura}°C\")\n",
        "print(f\"Maior temperatura: {maior_temperatura}°C\")\n",
        "print(f\"Temperatura média: {temperatura_media:.2f}°C\")"
      ],
      "metadata": {
        "colab": {
          "base_uri": "https://localhost:8080/"
        },
        "id": "WX28v_20HXGd",
        "outputId": "e5ad0834-4609-4b82-e862-e5ba10ce1a5a"
      },
      "execution_count": null,
      "outputs": [
        {
          "output_type": "stream",
          "name": "stdout",
          "text": [
            "Menor temperatura: -10°C\n",
            "Maior temperatura: 5°C\n",
            "Temperatura média: -2.00°C\n"
          ]
        }
      ]
    },
    {
      "cell_type": "code",
      "source": [
        "# prompt: Crie um programa que leia um arquivo texto e elimine os espaços repetidos entre as palavras e no fim das linhas. O arquivo de saída também não deve ter mais de uma linha em branco repetida\n",
        "\n",
        "import re\n",
        "\n",
        "def process_text_file(input_filename, output_filename):\n",
        "    \"\"\"\n",
        "    Reads a text file, removes extra spaces, and writes the processed text to a new file.\n",
        "    Removes repeated blank lines.\n",
        "    \"\"\"\n",
        "    try:\n",
        "        with open(input_filename, 'r') as infile, open(output_filename, 'w') as outfile:\n",
        "            previous_line_blank = False\n",
        "            for line in infile:\n",
        "                # Remove leading and trailing spaces, and replace multiple spaces with single spaces\n",
        "                line = re.sub(r'\\s+', ' ', line).strip()\n",
        "                if line:\n",
        "                    outfile.write(line + '\\n')\n",
        "                    previous_line_blank = False\n",
        "                elif not previous_line_blank:\n",
        "                    outfile.write('\\n')\n",
        "                    previous_line_blank = True\n",
        "\n",
        "        print(f\"File '{input_filename}' processed and saved to '{output_filename}'.\")\n",
        "\n",
        "    except FileNotFoundError:\n",
        "        print(f\"Error: File '{input_filename}' not found.\")\n",
        "    except Exception as e:\n",
        "        print(f\"An error occurred: {e}\")\n",
        "\n",
        "\n",
        "if __name__ == \"__main__\":\n",
        "    input_file = \"filename.txt\" # Replace with your file name\n",
        "    output_file = \"output.txt\" # Replace with your desired output file name\n",
        "    process_text_file(input_file, output_file)\n"
      ],
      "metadata": {
        "colab": {
          "base_uri": "https://localhost:8080/"
        },
        "id": "fz2VBh0R_H_h",
        "outputId": "d5bef014-0913-4d8a-f1d1-992adcc6b985"
      },
      "execution_count": null,
      "outputs": [
        {
          "output_type": "stream",
          "name": "stdout",
          "text": [
            "Error: File 'filename.txt' not found.\n"
          ]
        }
      ]
    },
    {
      "cell_type": "code",
      "source": [
        "import sys\n",
        "\n",
        "if len(sys.argv) != 3:\n",
        "    print(\"\\nUso: e09-14.py entrada saida\\n\\n\\n\")\n",
        "    sys.exit(1)\n",
        "\n",
        "entrada = sys.argv[1]\n",
        "saida = sys.argv[2]\n",
        "\n",
        "arquivo = open(entrada, \"r\", encoding=\"utf-8\")\n",
        "arq_saida = open(saida, \"w\", encoding=\"utf-8\")\n",
        "branco = 0\n",
        "\n",
        "for linha in arquivo:\n",
        "    # Elimina espaÃ§os a direita\n",
        "    # Substitua por strip se tambÃ©m\n",
        "    # quiser eliminar espaÃ§os a esquerda\n",
        "    linha = linha.rstrip()\n",
        "    linha = linha.replace(\"  \", \"\")  # Elimina espaÃ§os repetidos\n",
        "    if linha == \"\":\n",
        "        branco += 1  # Conta linhas em branco\n",
        "    else:\n",
        "        branco = 0  # Se a linha nÃ£o estÃ¡ em branco, zera o contador\n",
        "    if branco < 2:  # NÃ£o escreve a partir da segunda linha em branco\n",
        "        arq_saida.write(linha + \"\\n\")\n",
        "\n",
        "arquivo.close()\n",
        "arq_saida.close()"
      ],
      "metadata": {
        "colab": {
          "base_uri": "https://localhost:8080/",
          "height": 211
        },
        "id": "BylKs8fR_jtQ",
        "outputId": "4558bf12-a582-4158-8aa1-417383f171a8"
      },
      "execution_count": null,
      "outputs": [
        {
          "output_type": "error",
          "ename": "FileNotFoundError",
          "evalue": "[Errno 2] No such file or directory: '-f'",
          "traceback": [
            "\u001b[0;31m---------------------------------------------------------------------------\u001b[0m",
            "\u001b[0;31mFileNotFoundError\u001b[0m                         Traceback (most recent call last)",
            "\u001b[0;32m<ipython-input-13-557554f186ce>\u001b[0m in \u001b[0;36m<cell line: 0>\u001b[0;34m()\u001b[0m\n\u001b[1;32m      8\u001b[0m \u001b[0msaida\u001b[0m \u001b[0;34m=\u001b[0m \u001b[0msys\u001b[0m\u001b[0;34m.\u001b[0m\u001b[0margv\u001b[0m\u001b[0;34m[\u001b[0m\u001b[0;36m2\u001b[0m\u001b[0;34m]\u001b[0m\u001b[0;34m\u001b[0m\u001b[0;34m\u001b[0m\u001b[0m\n\u001b[1;32m      9\u001b[0m \u001b[0;34m\u001b[0m\u001b[0m\n\u001b[0;32m---> 10\u001b[0;31m \u001b[0marquivo\u001b[0m \u001b[0;34m=\u001b[0m \u001b[0mopen\u001b[0m\u001b[0;34m(\u001b[0m\u001b[0mentrada\u001b[0m\u001b[0;34m,\u001b[0m \u001b[0;34m\"r\"\u001b[0m\u001b[0;34m,\u001b[0m \u001b[0mencoding\u001b[0m\u001b[0;34m=\u001b[0m\u001b[0;34m\"utf-8\"\u001b[0m\u001b[0;34m)\u001b[0m\u001b[0;34m\u001b[0m\u001b[0;34m\u001b[0m\u001b[0m\n\u001b[0m\u001b[1;32m     11\u001b[0m \u001b[0marq_saida\u001b[0m \u001b[0;34m=\u001b[0m \u001b[0mopen\u001b[0m\u001b[0;34m(\u001b[0m\u001b[0msaida\u001b[0m\u001b[0;34m,\u001b[0m \u001b[0;34m\"w\"\u001b[0m\u001b[0;34m,\u001b[0m \u001b[0mencoding\u001b[0m\u001b[0;34m=\u001b[0m\u001b[0;34m\"utf-8\"\u001b[0m\u001b[0;34m)\u001b[0m\u001b[0;34m\u001b[0m\u001b[0;34m\u001b[0m\u001b[0m\n\u001b[1;32m     12\u001b[0m \u001b[0mbranco\u001b[0m \u001b[0;34m=\u001b[0m \u001b[0;36m0\u001b[0m\u001b[0;34m\u001b[0m\u001b[0;34m\u001b[0m\u001b[0m\n",
            "\u001b[0;31mFileNotFoundError\u001b[0m: [Errno 2] No such file or directory: '-f'"
          ]
        }
      ]
    },
    {
      "cell_type": "code",
      "source": [
        "import sys\n",
        "\n",
        "# Directly specify the input and output file paths\n",
        "entrada = \"entrada.txt\"  # Replace with your input file name\n",
        "saida = \"saida.txt\"    # Replace with your desired output file name\n",
        "\n",
        "arquivo = open(entrada, \"r\", encoding=\"utf-8\")\n",
        "arq_saida = open(saida, \"w\", encoding=\"utf-8\")\n",
        "branco = 0\n",
        "\n",
        "for linha in arquivo:\n",
        "    # Elimina espaÃ§os a direita\n",
        "    # Substitua por strip se tambÃ©m\n",
        "    # quiser eliminar espaÃ§os a esquerda\n",
        "    linha = linha.rstrip()\n",
        "    linha = linha.replace(\"  \", \"\")  # Elimina espaÃ§os repetidos\n",
        "    if linha == \"\":\n",
        "        branco += 1  # Conta linhas em branco\n",
        "    else:\n",
        "        branco = 0  # Se a linha nÃ£o estÃ¡ em branco, zera o contador\n",
        "    if branco < 2:  # NÃ£o escreve a partir da segunda linha em branco\n",
        "        arq_saida.write(linha + \"\\n\")\n",
        "\n",
        "arquivo.close()\n",
        "arq_saida.close()"
      ],
      "metadata": {
        "colab": {
          "base_uri": "https://localhost:8080/",
          "height": 211
        },
        "id": "B70WJQ1yATpg",
        "outputId": "8308bfc9-c152-4d36-ff73-83797f4fc5f5"
      },
      "execution_count": null,
      "outputs": [
        {
          "output_type": "error",
          "ename": "FileNotFoundError",
          "evalue": "[Errno 2] No such file or directory: 'entrada.txt'",
          "traceback": [
            "\u001b[0;31m---------------------------------------------------------------------------\u001b[0m",
            "\u001b[0;31mFileNotFoundError\u001b[0m                         Traceback (most recent call last)",
            "\u001b[0;32m<ipython-input-14-1a70ad864e92>\u001b[0m in \u001b[0;36m<cell line: 0>\u001b[0;34m()\u001b[0m\n\u001b[1;32m      5\u001b[0m \u001b[0msaida\u001b[0m \u001b[0;34m=\u001b[0m \u001b[0;34m\"saida.txt\"\u001b[0m    \u001b[0;31m# Replace with your desired output file name\u001b[0m\u001b[0;34m\u001b[0m\u001b[0;34m\u001b[0m\u001b[0m\n\u001b[1;32m      6\u001b[0m \u001b[0;34m\u001b[0m\u001b[0m\n\u001b[0;32m----> 7\u001b[0;31m \u001b[0marquivo\u001b[0m \u001b[0;34m=\u001b[0m \u001b[0mopen\u001b[0m\u001b[0;34m(\u001b[0m\u001b[0mentrada\u001b[0m\u001b[0;34m,\u001b[0m \u001b[0;34m\"r\"\u001b[0m\u001b[0;34m,\u001b[0m \u001b[0mencoding\u001b[0m\u001b[0;34m=\u001b[0m\u001b[0;34m\"utf-8\"\u001b[0m\u001b[0;34m)\u001b[0m\u001b[0;34m\u001b[0m\u001b[0;34m\u001b[0m\u001b[0m\n\u001b[0m\u001b[1;32m      8\u001b[0m \u001b[0marq_saida\u001b[0m \u001b[0;34m=\u001b[0m \u001b[0mopen\u001b[0m\u001b[0;34m(\u001b[0m\u001b[0msaida\u001b[0m\u001b[0;34m,\u001b[0m \u001b[0;34m\"w\"\u001b[0m\u001b[0;34m,\u001b[0m \u001b[0mencoding\u001b[0m\u001b[0;34m=\u001b[0m\u001b[0;34m\"utf-8\"\u001b[0m\u001b[0;34m)\u001b[0m\u001b[0;34m\u001b[0m\u001b[0;34m\u001b[0m\u001b[0m\n\u001b[1;32m      9\u001b[0m \u001b[0mbranco\u001b[0m \u001b[0;34m=\u001b[0m \u001b[0;36m0\u001b[0m\u001b[0;34m\u001b[0m\u001b[0;34m\u001b[0m\u001b[0m\n",
            "\u001b[0;31mFileNotFoundError\u001b[0m: [Errno 2] No such file or directory: 'entrada.txt'"
          ]
        }
      ]
    },
    {
      "cell_type": "code",
      "source": [
        "import sys\n",
        "\n",
        "   # Directly specify the input and output file paths\n",
        "   entrada = \"entrada.txt\"  # Replace with your input file name\n",
        "   saida = \"saida.txt\"    # Replace with your desired output file name\n",
        "\n",
        "   try:\n",
        "       arquivo = open(entrada, \"r\", encoding=\"utf-8\")\n",
        "   except FileNotFoundError:\n",
        "       print(f\"Error: File '{entrada}' not found. Please create it or check the path.\")\n",
        "       sys.exit(1)  # Exit the script if the file isn't found\n",
        "\n",
        "   arq_saida = open(saida, \"w\", encoding=\"utf-8\")\n",
        "   branco = 0\n",
        "\n",
        "   for linha in arquivo:\n",
        "       # Elimina espaÃ§os a direita\n",
        "       # Substitua por strip se tambÃ©m\n",
        "       # quiser eliminar espaÃ§os a esquerda\n",
        "       linha = linha.rstrip()\n",
        "       linha = linha.replace(\"  \", \"\")  # Elimina espaÃ§os repetidos\n",
        "       if linha == \"\":\n",
        "           branco += 1  # Conta linhas em branco\n",
        "       else:\n",
        "           branco = 0  # Se a linha nÃ£o estÃ¡ em branco, zera o contador\n",
        "       if branco < 2:  # NÃ£o escreve a partir da segunda linha em branco\n",
        "           arq_saida.write(linha + \"\\n\")\n",
        "\n",
        "   arquivo.close()\n",
        "   arq_saida.close()"
      ],
      "metadata": {
        "colab": {
          "base_uri": "https://localhost:8080/",
          "height": 106
        },
        "id": "Jf2v_r5GAgnw",
        "outputId": "f9c8e66e-b7da-466b-a824-1f0d4439dc42"
      },
      "execution_count": null,
      "outputs": [
        {
          "output_type": "error",
          "ename": "IndentationError",
          "evalue": "unexpected indent (<ipython-input-15-97ff62c351a4>, line 4)",
          "traceback": [
            "\u001b[0;36m  File \u001b[0;32m\"<ipython-input-15-97ff62c351a4>\"\u001b[0;36m, line \u001b[0;32m4\u001b[0m\n\u001b[0;31m    entrada = \"entrada.txt\"  # Replace with your input file name\u001b[0m\n\u001b[0m    ^\u001b[0m\n\u001b[0;31mIndentationError\u001b[0m\u001b[0;31m:\u001b[0m unexpected indent\n"
          ]
        }
      ]
    },
    {
      "cell_type": "code",
      "source": [
        "import sys\n",
        "\n",
        "# Directly specify the input and output file paths\n",
        "entrada = \"entrada.txt\"  # Replace with your input file name\n",
        "saida = \"saida.txt\"    # Replace with your desired output file name\n",
        "\n",
        "try:\n",
        "    arquivo = open(entrada, \"r\", encoding=\"utf-8\")\n",
        "except FileNotFoundError:\n",
        "    print(f\"Error: File '{entrada}' not found. Please create it or check the path.\")\n",
        "    sys.exit(1)  # Exit the script if the file isn't found\n",
        "\n",
        "arq_saida = open(saida, \"w\", encoding=\"utf-8\")\n",
        "branco = 0\n",
        "\n",
        "for linha in arquivo:\n",
        "    # Elimina espaÃ§os a direita\n",
        "    # Substitua por strip se tambÃ©m\n",
        "    # quiser eliminar espaÃ§os a esquerda\n",
        "    linha = linha.rstrip()\n",
        "    linha = linha.replace(\"  \", \"\")  # Elimina espaÃ§os repetidos\n",
        "    if linha == \"\":\n",
        "        branco += 1  # Conta linhas em branco\n",
        "    else:\n",
        "        branco = 0  # Se a linha nÃ£o estÃ¡ em branco, zera o contador\n",
        "    if branco < 2:  # NÃ£o escreve a partir da segunda linha em branco\n",
        "        arq_saida.write(linha + \"\\n\")\n",
        "\n",
        "arquivo.close()\n",
        "arq_saida.close()\n"
      ],
      "metadata": {
        "colab": {
          "base_uri": "https://localhost:8080/",
          "height": 1000
        },
        "id": "XWpu8DNHBAfY",
        "outputId": "2b0b37c9-8cb1-40f5-8a58-cf5a40bb44ea"
      },
      "execution_count": null,
      "outputs": [
        {
          "output_type": "stream",
          "name": "stderr",
          "text": [
            "ERROR:root:Internal Python error in the inspect module.\n",
            "Below is the traceback from this internal error.\n",
            "\n"
          ]
        },
        {
          "output_type": "stream",
          "name": "stdout",
          "text": [
            "Error: File 'entrada.txt' not found. Please create it or check the path.\n",
            "Traceback (most recent call last):\n",
            "  File \"<ipython-input-17-bd9ecb715e31>\", line 8, in <cell line: 0>\n",
            "    arquivo = open(entrada, \"r\", encoding=\"utf-8\")\n",
            "              ^^^^^^^^^^^^^^^^^^^^^^^^^^^^^^^^^^^^\n",
            "FileNotFoundError: [Errno 2] No such file or directory: 'entrada.txt'\n",
            "\n",
            "During handling of the above exception, another exception occurred:\n",
            "\n",
            "Traceback (most recent call last):\n",
            "  File \"/usr/local/lib/python3.11/dist-packages/IPython/core/interactiveshell.py\", line 3553, in run_code\n",
            "    exec(code_obj, self.user_global_ns, self.user_ns)\n",
            "  File \"<ipython-input-17-bd9ecb715e31>\", line 11, in <cell line: 0>\n",
            "    sys.exit(1)  # Exit the script if the file isn't found\n",
            "    ^^^^^^^^^^^\n",
            "SystemExit: 1\n",
            "\n",
            "During handling of the above exception, another exception occurred:\n",
            "\n",
            "Traceback (most recent call last):\n",
            "  File \"/usr/local/lib/python3.11/dist-packages/IPython/core/ultratb.py\", line 1101, in get_records\n",
            "    return _fixed_getinnerframes(etb, number_of_lines_of_context, tb_offset)\n",
            "           ^^^^^^^^^^^^^^^^^^^^^^^^^^^^^^^^^^^^^^^^^^^^^^^^^^^^^^^^^^^^^^^^^\n",
            "  File \"/usr/local/lib/python3.11/dist-packages/IPython/core/ultratb.py\", line 248, in wrapped\n",
            "    return f(*args, **kwargs)\n",
            "           ^^^^^^^^^^^^^^^^^^\n",
            "  File \"/usr/local/lib/python3.11/dist-packages/IPython/core/ultratb.py\", line 281, in _fixed_getinnerframes\n",
            "    records = fix_frame_records_filenames(inspect.getinnerframes(etb, context))\n",
            "                                          ^^^^^^^^^^^^^^^^^^^^^^^^^^^^^^^^^^^^\n",
            "  File \"/usr/lib/python3.11/inspect.py\", line 1739, in getinnerframes\n",
            "    traceback_info = getframeinfo(tb, context)\n",
            "                     ^^^^^^^^^^^^^^^^^^^^^^^^^\n",
            "  File \"/usr/lib/python3.11/inspect.py\", line 1671, in getframeinfo\n",
            "    lineno = frame.f_lineno\n",
            "             ^^^^^^^^^^^^^^\n",
            "AttributeError: 'tuple' object has no attribute 'f_lineno'\n"
          ]
        },
        {
          "output_type": "error",
          "ename": "TypeError",
          "evalue": "object of type 'NoneType' has no len()",
          "traceback": [
            "\u001b[0;31m---------------------------------------------------------------------------\u001b[0m",
            "\u001b[0;31mFileNotFoundError\u001b[0m                         Traceback (most recent call last)",
            "\u001b[0;32m<ipython-input-17-bd9ecb715e31>\u001b[0m in \u001b[0;36m<cell line: 0>\u001b[0;34m()\u001b[0m\n\u001b[1;32m      7\u001b[0m \u001b[0;32mtry\u001b[0m\u001b[0;34m:\u001b[0m\u001b[0;34m\u001b[0m\u001b[0;34m\u001b[0m\u001b[0m\n\u001b[0;32m----> 8\u001b[0;31m     \u001b[0marquivo\u001b[0m \u001b[0;34m=\u001b[0m \u001b[0mopen\u001b[0m\u001b[0;34m(\u001b[0m\u001b[0mentrada\u001b[0m\u001b[0;34m,\u001b[0m \u001b[0;34m\"r\"\u001b[0m\u001b[0;34m,\u001b[0m \u001b[0mencoding\u001b[0m\u001b[0;34m=\u001b[0m\u001b[0;34m\"utf-8\"\u001b[0m\u001b[0;34m)\u001b[0m\u001b[0;34m\u001b[0m\u001b[0;34m\u001b[0m\u001b[0m\n\u001b[0m\u001b[1;32m      9\u001b[0m \u001b[0;32mexcept\u001b[0m \u001b[0mFileNotFoundError\u001b[0m\u001b[0;34m:\u001b[0m\u001b[0;34m\u001b[0m\u001b[0;34m\u001b[0m\u001b[0m\n",
            "\u001b[0;31mFileNotFoundError\u001b[0m: [Errno 2] No such file or directory: 'entrada.txt'",
            "\nDuring handling of the above exception, another exception occurred:\n",
            "\u001b[0;31mSystemExit\u001b[0m                                Traceback (most recent call last)",
            "    \u001b[0;31m[... skipping hidden 1 frame]\u001b[0m\n",
            "\u001b[0;32m<ipython-input-17-bd9ecb715e31>\u001b[0m in \u001b[0;36m<cell line: 0>\u001b[0;34m()\u001b[0m\n\u001b[1;32m     10\u001b[0m     \u001b[0mprint\u001b[0m\u001b[0;34m(\u001b[0m\u001b[0;34mf\"Error: File '{entrada}' not found. Please create it or check the path.\"\u001b[0m\u001b[0;34m)\u001b[0m\u001b[0;34m\u001b[0m\u001b[0;34m\u001b[0m\u001b[0m\n\u001b[0;32m---> 11\u001b[0;31m     \u001b[0msys\u001b[0m\u001b[0;34m.\u001b[0m\u001b[0mexit\u001b[0m\u001b[0;34m(\u001b[0m\u001b[0;36m1\u001b[0m\u001b[0;34m)\u001b[0m  \u001b[0;31m# Exit the script if the file isn't found\u001b[0m\u001b[0;34m\u001b[0m\u001b[0;34m\u001b[0m\u001b[0m\n\u001b[0m\u001b[1;32m     12\u001b[0m \u001b[0;34m\u001b[0m\u001b[0m\n",
            "\u001b[0;31mSystemExit\u001b[0m: 1",
            "\nDuring handling of the above exception, another exception occurred:\n",
            "\u001b[0;31mTypeError\u001b[0m                                 Traceback (most recent call last)",
            "    \u001b[0;31m[... skipping hidden 1 frame]\u001b[0m\n",
            "\u001b[0;32m/usr/local/lib/python3.11/dist-packages/IPython/core/interactiveshell.py\u001b[0m in \u001b[0;36mshowtraceback\u001b[0;34m(self, exc_tuple, filename, tb_offset, exception_only, running_compiled_code)\u001b[0m\n\u001b[1;32m   2090\u001b[0m                     stb = ['An exception has occurred, use %tb to see '\n\u001b[1;32m   2091\u001b[0m                            'the full traceback.\\n']\n\u001b[0;32m-> 2092\u001b[0;31m                     stb.extend(self.InteractiveTB.get_exception_only(etype,\n\u001b[0m\u001b[1;32m   2093\u001b[0m                                                                      value))\n\u001b[1;32m   2094\u001b[0m                 \u001b[0;32melse\u001b[0m\u001b[0;34m:\u001b[0m\u001b[0;34m\u001b[0m\u001b[0;34m\u001b[0m\u001b[0m\n",
            "\u001b[0;32m/usr/local/lib/python3.11/dist-packages/IPython/core/ultratb.py\u001b[0m in \u001b[0;36mget_exception_only\u001b[0;34m(self, etype, value)\u001b[0m\n\u001b[1;32m    752\u001b[0m         \u001b[0mvalue\u001b[0m \u001b[0;34m:\u001b[0m \u001b[0mexception\u001b[0m \u001b[0mvalue\u001b[0m\u001b[0;34m\u001b[0m\u001b[0;34m\u001b[0m\u001b[0m\n\u001b[1;32m    753\u001b[0m         \"\"\"\n\u001b[0;32m--> 754\u001b[0;31m         \u001b[0;32mreturn\u001b[0m \u001b[0mListTB\u001b[0m\u001b[0;34m.\u001b[0m\u001b[0mstructured_traceback\u001b[0m\u001b[0;34m(\u001b[0m\u001b[0mself\u001b[0m\u001b[0;34m,\u001b[0m \u001b[0metype\u001b[0m\u001b[0;34m,\u001b[0m \u001b[0mvalue\u001b[0m\u001b[0;34m)\u001b[0m\u001b[0;34m\u001b[0m\u001b[0;34m\u001b[0m\u001b[0m\n\u001b[0m\u001b[1;32m    755\u001b[0m \u001b[0;34m\u001b[0m\u001b[0m\n\u001b[1;32m    756\u001b[0m     \u001b[0;32mdef\u001b[0m \u001b[0mshow_exception_only\u001b[0m\u001b[0;34m(\u001b[0m\u001b[0mself\u001b[0m\u001b[0;34m,\u001b[0m \u001b[0metype\u001b[0m\u001b[0;34m,\u001b[0m \u001b[0mevalue\u001b[0m\u001b[0;34m)\u001b[0m\u001b[0;34m:\u001b[0m\u001b[0;34m\u001b[0m\u001b[0;34m\u001b[0m\u001b[0m\n",
            "\u001b[0;32m/usr/local/lib/python3.11/dist-packages/IPython/core/ultratb.py\u001b[0m in \u001b[0;36mstructured_traceback\u001b[0;34m(self, etype, evalue, etb, tb_offset, context)\u001b[0m\n\u001b[1;32m    627\u001b[0m             \u001b[0mchained_exceptions_tb_offset\u001b[0m \u001b[0;34m=\u001b[0m \u001b[0;36m0\u001b[0m\u001b[0;34m\u001b[0m\u001b[0;34m\u001b[0m\u001b[0m\n\u001b[1;32m    628\u001b[0m             out_list = (\n\u001b[0;32m--> 629\u001b[0;31m                 self.structured_traceback(\n\u001b[0m\u001b[1;32m    630\u001b[0m                     \u001b[0metype\u001b[0m\u001b[0;34m,\u001b[0m \u001b[0mevalue\u001b[0m\u001b[0;34m,\u001b[0m \u001b[0;34m(\u001b[0m\u001b[0metb\u001b[0m\u001b[0;34m,\u001b[0m \u001b[0mchained_exc_ids\u001b[0m\u001b[0;34m)\u001b[0m\u001b[0;34m,\u001b[0m\u001b[0;34m\u001b[0m\u001b[0;34m\u001b[0m\u001b[0m\n\u001b[1;32m    631\u001b[0m                     chained_exceptions_tb_offset, context)\n",
            "\u001b[0;32m/usr/local/lib/python3.11/dist-packages/IPython/core/ultratb.py\u001b[0m in \u001b[0;36mstructured_traceback\u001b[0;34m(self, etype, value, tb, tb_offset, number_of_lines_of_context)\u001b[0m\n\u001b[1;32m   1365\u001b[0m         \u001b[0;32melse\u001b[0m\u001b[0;34m:\u001b[0m\u001b[0;34m\u001b[0m\u001b[0;34m\u001b[0m\u001b[0m\n\u001b[1;32m   1366\u001b[0m             \u001b[0mself\u001b[0m\u001b[0;34m.\u001b[0m\u001b[0mtb\u001b[0m \u001b[0;34m=\u001b[0m \u001b[0mtb\u001b[0m\u001b[0;34m\u001b[0m\u001b[0;34m\u001b[0m\u001b[0m\n\u001b[0;32m-> 1367\u001b[0;31m         return FormattedTB.structured_traceback(\n\u001b[0m\u001b[1;32m   1368\u001b[0m             self, etype, value, tb, tb_offset, number_of_lines_of_context)\n\u001b[1;32m   1369\u001b[0m \u001b[0;34m\u001b[0m\u001b[0m\n",
            "\u001b[0;32m/usr/local/lib/python3.11/dist-packages/IPython/core/ultratb.py\u001b[0m in \u001b[0;36mstructured_traceback\u001b[0;34m(self, etype, value, tb, tb_offset, number_of_lines_of_context)\u001b[0m\n\u001b[1;32m   1265\u001b[0m         \u001b[0;32mif\u001b[0m \u001b[0mmode\u001b[0m \u001b[0;32min\u001b[0m \u001b[0mself\u001b[0m\u001b[0;34m.\u001b[0m\u001b[0mverbose_modes\u001b[0m\u001b[0;34m:\u001b[0m\u001b[0;34m\u001b[0m\u001b[0;34m\u001b[0m\u001b[0m\n\u001b[1;32m   1266\u001b[0m             \u001b[0;31m# Verbose modes need a full traceback\u001b[0m\u001b[0;34m\u001b[0m\u001b[0;34m\u001b[0m\u001b[0m\n\u001b[0;32m-> 1267\u001b[0;31m             return VerboseTB.structured_traceback(\n\u001b[0m\u001b[1;32m   1268\u001b[0m                 \u001b[0mself\u001b[0m\u001b[0;34m,\u001b[0m \u001b[0metype\u001b[0m\u001b[0;34m,\u001b[0m \u001b[0mvalue\u001b[0m\u001b[0;34m,\u001b[0m \u001b[0mtb\u001b[0m\u001b[0;34m,\u001b[0m \u001b[0mtb_offset\u001b[0m\u001b[0;34m,\u001b[0m \u001b[0mnumber_of_lines_of_context\u001b[0m\u001b[0;34m\u001b[0m\u001b[0;34m\u001b[0m\u001b[0m\n\u001b[1;32m   1269\u001b[0m             )\n",
            "\u001b[0;32m/usr/local/lib/python3.11/dist-packages/IPython/core/ultratb.py\u001b[0m in \u001b[0;36mstructured_traceback\u001b[0;34m(self, etype, evalue, etb, tb_offset, number_of_lines_of_context)\u001b[0m\n\u001b[1;32m   1122\u001b[0m         \u001b[0;34m\"\"\"Return a nice text document describing the traceback.\"\"\"\u001b[0m\u001b[0;34m\u001b[0m\u001b[0;34m\u001b[0m\u001b[0m\n\u001b[1;32m   1123\u001b[0m \u001b[0;34m\u001b[0m\u001b[0m\n\u001b[0;32m-> 1124\u001b[0;31m         formatted_exception = self.format_exception_as_a_whole(etype, evalue, etb, number_of_lines_of_context,\n\u001b[0m\u001b[1;32m   1125\u001b[0m                                                                tb_offset)\n\u001b[1;32m   1126\u001b[0m \u001b[0;34m\u001b[0m\u001b[0m\n",
            "\u001b[0;32m/usr/local/lib/python3.11/dist-packages/IPython/core/ultratb.py\u001b[0m in \u001b[0;36mformat_exception_as_a_whole\u001b[0;34m(self, etype, evalue, etb, number_of_lines_of_context, tb_offset)\u001b[0m\n\u001b[1;32m   1080\u001b[0m \u001b[0;34m\u001b[0m\u001b[0m\n\u001b[1;32m   1081\u001b[0m \u001b[0;34m\u001b[0m\u001b[0m\n\u001b[0;32m-> 1082\u001b[0;31m         \u001b[0mlast_unique\u001b[0m\u001b[0;34m,\u001b[0m \u001b[0mrecursion_repeat\u001b[0m \u001b[0;34m=\u001b[0m \u001b[0mfind_recursion\u001b[0m\u001b[0;34m(\u001b[0m\u001b[0morig_etype\u001b[0m\u001b[0;34m,\u001b[0m \u001b[0mevalue\u001b[0m\u001b[0;34m,\u001b[0m \u001b[0mrecords\u001b[0m\u001b[0;34m)\u001b[0m\u001b[0;34m\u001b[0m\u001b[0;34m\u001b[0m\u001b[0m\n\u001b[0m\u001b[1;32m   1083\u001b[0m \u001b[0;34m\u001b[0m\u001b[0m\n\u001b[1;32m   1084\u001b[0m         \u001b[0mframes\u001b[0m \u001b[0;34m=\u001b[0m \u001b[0mself\u001b[0m\u001b[0;34m.\u001b[0m\u001b[0mformat_records\u001b[0m\u001b[0;34m(\u001b[0m\u001b[0mrecords\u001b[0m\u001b[0;34m,\u001b[0m \u001b[0mlast_unique\u001b[0m\u001b[0;34m,\u001b[0m \u001b[0mrecursion_repeat\u001b[0m\u001b[0;34m)\u001b[0m\u001b[0;34m\u001b[0m\u001b[0;34m\u001b[0m\u001b[0m\n",
            "\u001b[0;32m/usr/local/lib/python3.11/dist-packages/IPython/core/ultratb.py\u001b[0m in \u001b[0;36mfind_recursion\u001b[0;34m(etype, value, records)\u001b[0m\n\u001b[1;32m    380\u001b[0m     \u001b[0;31m# first frame (from in to out) that looks different.\u001b[0m\u001b[0;34m\u001b[0m\u001b[0;34m\u001b[0m\u001b[0m\n\u001b[1;32m    381\u001b[0m     \u001b[0;32mif\u001b[0m \u001b[0;32mnot\u001b[0m \u001b[0mis_recursion_error\u001b[0m\u001b[0;34m(\u001b[0m\u001b[0metype\u001b[0m\u001b[0;34m,\u001b[0m \u001b[0mvalue\u001b[0m\u001b[0;34m,\u001b[0m \u001b[0mrecords\u001b[0m\u001b[0;34m)\u001b[0m\u001b[0;34m:\u001b[0m\u001b[0;34m\u001b[0m\u001b[0;34m\u001b[0m\u001b[0m\n\u001b[0;32m--> 382\u001b[0;31m         \u001b[0;32mreturn\u001b[0m \u001b[0mlen\u001b[0m\u001b[0;34m(\u001b[0m\u001b[0mrecords\u001b[0m\u001b[0;34m)\u001b[0m\u001b[0;34m,\u001b[0m \u001b[0;36m0\u001b[0m\u001b[0;34m\u001b[0m\u001b[0;34m\u001b[0m\u001b[0m\n\u001b[0m\u001b[1;32m    383\u001b[0m \u001b[0;34m\u001b[0m\u001b[0m\n\u001b[1;32m    384\u001b[0m     \u001b[0;31m# Select filename, lineno, func_name to track frames with\u001b[0m\u001b[0;34m\u001b[0m\u001b[0;34m\u001b[0m\u001b[0m\n",
            "\u001b[0;31mTypeError\u001b[0m: object of type 'NoneType' has no len()"
          ]
        }
      ]
    },
    {
      "cell_type": "code",
      "source": [
        "def process_text_file(input_filename, output_filename):\n",
        "    \"\"\"\n",
        "    Reads a text file, removes extra spaces and repeated blank lines,\n",
        "    and writes the processed text to a new file.\n",
        "    \"\"\"\n",
        "\n",
        "    with open(input_filename, 'r', encoding=\"utf-8\") as infile, \\\n",
        "        open(output_filename, 'w', encoding=\"utf-8\") as outfile:\n",
        "\n",
        "        previous_line_blank = False  # Flag to track blank lines\n",
        "\n",
        "        for line in infile:\n",
        "            line = line.rstrip().replace(\"  \", \" \")  # Remove extra spaces\n",
        "\n",
        "            if line:  # If line is not empty\n",
        "                outfile.write(line + '\\n')\n",
        "                previous_line_blank = False\n",
        "\n",
        "            elif not previous_line_blank:  # If line is blank and previous was not\n",
        "                outfile.write('\\n')\n",
        "                previous_line_blank = True\n",
        "\n",
        "    print(f\"File '{input_filename}' processed and saved to '{output_filename}'.\")\n",
        "\n",
        "\n",
        "# Replace with your actual file names\n",
        "input_file = \"entrada.txt\"\n",
        "output_file = \"saida.txt\"\n",
        "process_text_file(input_file, output_file)\n",
        "\n"
      ],
      "metadata": {
        "colab": {
          "base_uri": "https://localhost:8080/",
          "height": 315
        },
        "id": "0N5kWHWeBhy4",
        "outputId": "9c10d3de-239a-46f0-af3b-a29ea394ce45"
      },
      "execution_count": null,
      "outputs": [
        {
          "output_type": "error",
          "ename": "FileNotFoundError",
          "evalue": "[Errno 2] No such file or directory: 'entrada.txt'",
          "traceback": [
            "\u001b[0;31m---------------------------------------------------------------------------\u001b[0m",
            "\u001b[0;31mFileNotFoundError\u001b[0m                         Traceback (most recent call last)",
            "\u001b[0;32m<ipython-input-18-d678ce21ab9b>\u001b[0m in \u001b[0;36m<cell line: 0>\u001b[0;34m()\u001b[0m\n\u001b[1;32m     27\u001b[0m \u001b[0minput_file\u001b[0m \u001b[0;34m=\u001b[0m \u001b[0;34m\"entrada.txt\"\u001b[0m\u001b[0;34m\u001b[0m\u001b[0;34m\u001b[0m\u001b[0m\n\u001b[1;32m     28\u001b[0m \u001b[0moutput_file\u001b[0m \u001b[0;34m=\u001b[0m \u001b[0;34m\"saida.txt\"\u001b[0m\u001b[0;34m\u001b[0m\u001b[0;34m\u001b[0m\u001b[0m\n\u001b[0;32m---> 29\u001b[0;31m \u001b[0mprocess_text_file\u001b[0m\u001b[0;34m(\u001b[0m\u001b[0minput_file\u001b[0m\u001b[0;34m,\u001b[0m \u001b[0moutput_file\u001b[0m\u001b[0;34m)\u001b[0m\u001b[0;34m\u001b[0m\u001b[0;34m\u001b[0m\u001b[0m\n\u001b[0m\u001b[1;32m     30\u001b[0m \u001b[0;34m\u001b[0m\u001b[0m\n",
            "\u001b[0;32m<ipython-input-18-d678ce21ab9b>\u001b[0m in \u001b[0;36mprocess_text_file\u001b[0;34m(input_filename, output_filename)\u001b[0m\n\u001b[1;32m      5\u001b[0m     \"\"\"\n\u001b[1;32m      6\u001b[0m \u001b[0;34m\u001b[0m\u001b[0m\n\u001b[0;32m----> 7\u001b[0;31m     \u001b[0;32mwith\u001b[0m \u001b[0mopen\u001b[0m\u001b[0;34m(\u001b[0m\u001b[0minput_filename\u001b[0m\u001b[0;34m,\u001b[0m \u001b[0;34m'r'\u001b[0m\u001b[0;34m,\u001b[0m \u001b[0mencoding\u001b[0m\u001b[0;34m=\u001b[0m\u001b[0;34m\"utf-8\"\u001b[0m\u001b[0;34m)\u001b[0m \u001b[0;32mas\u001b[0m \u001b[0minfile\u001b[0m\u001b[0;34m,\u001b[0m\u001b[0;31m \u001b[0m\u001b[0;31m\\\u001b[0m\u001b[0;34m\u001b[0m\u001b[0;34m\u001b[0m\u001b[0m\n\u001b[0m\u001b[1;32m      8\u001b[0m         \u001b[0mopen\u001b[0m\u001b[0;34m(\u001b[0m\u001b[0moutput_filename\u001b[0m\u001b[0;34m,\u001b[0m \u001b[0;34m'w'\u001b[0m\u001b[0;34m,\u001b[0m \u001b[0mencoding\u001b[0m\u001b[0;34m=\u001b[0m\u001b[0;34m\"utf-8\"\u001b[0m\u001b[0;34m)\u001b[0m \u001b[0;32mas\u001b[0m \u001b[0moutfile\u001b[0m\u001b[0;34m:\u001b[0m\u001b[0;34m\u001b[0m\u001b[0;34m\u001b[0m\u001b[0m\n\u001b[1;32m      9\u001b[0m \u001b[0;34m\u001b[0m\u001b[0m\n",
            "\u001b[0;31mFileNotFoundError\u001b[0m: [Errno 2] No such file or directory: 'entrada.txt'"
          ]
        }
      ]
    },
    {
      "cell_type": "code",
      "source": [
        "def limpar_espacos_repetidos(linha):\n",
        "    # Remove espaços repetidos entre as palavras\n",
        "    linha = ' '.join(linha.split())\n",
        "    # Remove espaços no final da linha\n",
        "    linha = linha.rstrip()\n",
        "    return linha\n",
        "\n",
        "def processar_arquivo(entrada, saida):\n",
        "    with open(entrada, 'r', encoding='utf-8') as arquivo_entrada,\\\n",
        "         open(saida, 'w', encoding='utf-8') as arquivo_saida:\n",
        "\n",
        "        linha_anterior_vazia = False\n",
        "\n",
        "        for linha in arquivo_entrada:\n",
        "            linha_limpa = limpar_espacos_repetidos(linha)\n",
        "\n",
        "            # Se a linha estiver vazia após a limpeza\n",
        "            if not linha_limpa:\n",
        "                if not linha_anterior_vazia:\n",
        "                    arquivo_saida.write('\\n')\n",
        "                    linha_anterior_vazia = True\n",
        "            else:\n",
        "                arquivo_saida.write(linha_limpa + '\\n')\n",
        "                linha_anterior_vazia = False\n",
        "\n",
        "# Exemplo de uso\n",
        "entrada = 'arquivo_entrada.txt'\n",
        "saida = 'arquivo_saida.txt'\n",
        "processar_arquivo(entrada, saida)"
      ],
      "metadata": {
        "colab": {
          "base_uri": "https://localhost:8080/",
          "height": 297
        },
        "id": "JDDqXCZNEdI_",
        "outputId": "aa481066-20e1-41b0-bc16-7dff21ecd965"
      },
      "execution_count": null,
      "outputs": [
        {
          "output_type": "error",
          "ename": "FileNotFoundError",
          "evalue": "[Errno 2] No such file or directory: 'arquivo_entrada.txt'",
          "traceback": [
            "\u001b[0;31m---------------------------------------------------------------------------\u001b[0m",
            "\u001b[0;31mFileNotFoundError\u001b[0m                         Traceback (most recent call last)",
            "\u001b[0;32m<ipython-input-20-5a8ec91a29e3>\u001b[0m in \u001b[0;36m<cell line: 0>\u001b[0;34m()\u001b[0m\n\u001b[1;32m     27\u001b[0m \u001b[0mentrada\u001b[0m \u001b[0;34m=\u001b[0m \u001b[0;34m'arquivo_entrada.txt'\u001b[0m\u001b[0;34m\u001b[0m\u001b[0;34m\u001b[0m\u001b[0m\n\u001b[1;32m     28\u001b[0m \u001b[0msaida\u001b[0m \u001b[0;34m=\u001b[0m \u001b[0;34m'arquivo_saida.txt'\u001b[0m\u001b[0;34m\u001b[0m\u001b[0;34m\u001b[0m\u001b[0m\n\u001b[0;32m---> 29\u001b[0;31m \u001b[0mprocessar_arquivo\u001b[0m\u001b[0;34m(\u001b[0m\u001b[0mentrada\u001b[0m\u001b[0;34m,\u001b[0m \u001b[0msaida\u001b[0m\u001b[0;34m)\u001b[0m\u001b[0;34m\u001b[0m\u001b[0;34m\u001b[0m\u001b[0m\n\u001b[0m",
            "\u001b[0;32m<ipython-input-20-5a8ec91a29e3>\u001b[0m in \u001b[0;36mprocessar_arquivo\u001b[0;34m(entrada, saida)\u001b[0m\n\u001b[1;32m      7\u001b[0m \u001b[0;34m\u001b[0m\u001b[0m\n\u001b[1;32m      8\u001b[0m \u001b[0;32mdef\u001b[0m \u001b[0mprocessar_arquivo\u001b[0m\u001b[0;34m(\u001b[0m\u001b[0mentrada\u001b[0m\u001b[0;34m,\u001b[0m \u001b[0msaida\u001b[0m\u001b[0;34m)\u001b[0m\u001b[0;34m:\u001b[0m\u001b[0;34m\u001b[0m\u001b[0;34m\u001b[0m\u001b[0m\n\u001b[0;32m----> 9\u001b[0;31m     \u001b[0;32mwith\u001b[0m \u001b[0mopen\u001b[0m\u001b[0;34m(\u001b[0m\u001b[0mentrada\u001b[0m\u001b[0;34m,\u001b[0m \u001b[0;34m'r'\u001b[0m\u001b[0;34m,\u001b[0m \u001b[0mencoding\u001b[0m\u001b[0;34m=\u001b[0m\u001b[0;34m'utf-8'\u001b[0m\u001b[0;34m)\u001b[0m \u001b[0;32mas\u001b[0m \u001b[0marquivo_entrada\u001b[0m\u001b[0;34m,\u001b[0m\u001b[0;31m\\\u001b[0m\u001b[0;34m\u001b[0m\u001b[0;34m\u001b[0m\u001b[0m\n\u001b[0m\u001b[1;32m     10\u001b[0m          \u001b[0mopen\u001b[0m\u001b[0;34m(\u001b[0m\u001b[0msaida\u001b[0m\u001b[0;34m,\u001b[0m \u001b[0;34m'w'\u001b[0m\u001b[0;34m,\u001b[0m \u001b[0mencoding\u001b[0m\u001b[0;34m=\u001b[0m\u001b[0;34m'utf-8'\u001b[0m\u001b[0;34m)\u001b[0m \u001b[0;32mas\u001b[0m \u001b[0marquivo_saida\u001b[0m\u001b[0;34m:\u001b[0m\u001b[0;34m\u001b[0m\u001b[0;34m\u001b[0m\u001b[0m\n\u001b[1;32m     11\u001b[0m \u001b[0;34m\u001b[0m\u001b[0m\n",
            "\u001b[0;31mFileNotFoundError\u001b[0m: [Errno 2] No such file or directory: 'arquivo_entrada.txt'"
          ]
        }
      ]
    },
    {
      "cell_type": "code",
      "source": [
        "# QUESTÃO 6\n",
        "\n",
        "def limpar_espacos(arquivo_entrada, arquivo_saida):\n",
        "    try:\n",
        "        with open(\"/ARQUIVO.txt\", 'r', encoding='utf-8') as file:\n",
        "            linhas = file.readlines()\n",
        "\n",
        "        with open(\"arquivo_saida\", 'w', encoding='utf-8') as file:\n",
        "            linha_anterior_vazia = False\n",
        "\n",
        "            for linha in linhas:\n",
        "                # Remove espaços em branco no início e no final da linha\n",
        "                linha = linha.strip()\n",
        "\n",
        "                # Substitui múltiplos espaços por um único espaço\n",
        "                linha = ' '.join(linha.split())\n",
        "\n",
        "                # Verifica se a linha está vazia após a limpeza\n",
        "                if linha == '':\n",
        "                    if not linha_anterior_vazia:\n",
        "                        file.write('\\n')\n",
        "                        linha_anterior_vazia = True\n",
        "                else:\n",
        "                    file.write(linha + '\\n')\n",
        "                    linha_anterior_vazia = False\n",
        "\n",
        "        print(f\"Arquivo processado e salvo em '{arquivo_saida}'.\")\n",
        "\n",
        "    except FileNotFoundError:\n",
        "        print(f\"Erro: O arquivo '{arquivo_entrada}' não foi encontrado.\")\n",
        "    except Exception as e:\n",
        "        print(f\"Ocorreu um erro: {e}\")\n",
        "\n",
        "# Exemplo de uso\n",
        "arquivo_entrada = 'entrada.txt'\n",
        "arquivo_saida = 'saida.txt'\n",
        "limpar_espacos(arquivo_entrada, arquivo_saida)"
      ],
      "metadata": {
        "colab": {
          "base_uri": "https://localhost:8080/"
        },
        "id": "qHuXVLCzIJ3l",
        "outputId": "7aed084e-ed29-4fe9-cf1c-c286166f5f2f"
      },
      "execution_count": null,
      "outputs": [
        {
          "output_type": "stream",
          "name": "stdout",
          "text": [
            "Arquivo processado e salvo em 'saida.txt'.\n"
          ]
        }
      ]
    },
    {
      "cell_type": "code",
      "source": [
        "from google.colab import drive\n",
        "drive.mount('/content/drive')"
      ],
      "metadata": {
        "id": "0lwswu6aNBCl"
      },
      "execution_count": null,
      "outputs": []
    }
  ]
}